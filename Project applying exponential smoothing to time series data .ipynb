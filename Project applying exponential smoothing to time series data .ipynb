{
 "cells": [
  {
   "cell_type": "code",
   "execution_count": 1,
   "id": "9aeae347",
   "metadata": {},
   "outputs": [],
   "source": [
    "#load dataset\n",
    "temps <- read.delim(\"C:/Users/sgede/Datasets for Projects/temps.txt\")"
   ]
  },
  {
   "cell_type": "code",
   "execution_count": 2,
   "id": "8513a65c",
   "metadata": {},
   "outputs": [
    {
     "data": {
      "text/html": [
       "<table>\n",
       "<thead><tr><th scope=col>DAY</th><th scope=col>X1996</th><th scope=col>X1997</th><th scope=col>X1998</th><th scope=col>X1999</th><th scope=col>X2000</th><th scope=col>X2001</th><th scope=col>X2002</th><th scope=col>X2003</th><th scope=col>X2004</th><th scope=col>...</th><th scope=col>X2006</th><th scope=col>X2007</th><th scope=col>X2008</th><th scope=col>X2009</th><th scope=col>X2010</th><th scope=col>X2011</th><th scope=col>X2012</th><th scope=col>X2013</th><th scope=col>X2014</th><th scope=col>X2015</th></tr></thead>\n",
       "<tbody>\n",
       "\t<tr><td>1-Jul</td><td>98   </td><td>86   </td><td>91   </td><td>84   </td><td>89   </td><td>84   </td><td>90   </td><td>73   </td><td>82   </td><td>...  </td><td>93   </td><td>95   </td><td>85   </td><td>95   </td><td>87   </td><td>92   </td><td>105  </td><td>82   </td><td>90   </td><td>85   </td></tr>\n",
       "\t<tr><td>2-Jul</td><td>97   </td><td>90   </td><td>88   </td><td>82   </td><td>91   </td><td>87   </td><td>90   </td><td>81   </td><td>81   </td><td>...  </td><td>93   </td><td>85   </td><td>87   </td><td>90   </td><td>84   </td><td>94   </td><td> 93  </td><td>85   </td><td>93   </td><td>87   </td></tr>\n",
       "\t<tr><td>3-Jul</td><td>97   </td><td>93   </td><td>91   </td><td>87   </td><td>93   </td><td>87   </td><td>87   </td><td>87   </td><td>86   </td><td>...  </td><td>93   </td><td>82   </td><td>91   </td><td>89   </td><td>83   </td><td>95   </td><td> 99  </td><td>76   </td><td>87   </td><td>79   </td></tr>\n",
       "\t<tr><td>4-Jul</td><td>90   </td><td>91   </td><td>91   </td><td>88   </td><td>95   </td><td>84   </td><td>89   </td><td>86   </td><td>88   </td><td>...  </td><td>91   </td><td>86   </td><td>90   </td><td>91   </td><td>85   </td><td>92   </td><td> 98  </td><td>77   </td><td>84   </td><td>85   </td></tr>\n",
       "\t<tr><td>5-Jul</td><td>89   </td><td>84   </td><td>91   </td><td>90   </td><td>96   </td><td>86   </td><td>93   </td><td>80   </td><td>90   </td><td>...  </td><td>90   </td><td>88   </td><td>88   </td><td>80   </td><td>88   </td><td>90   </td><td>100  </td><td>83   </td><td>86   </td><td>84   </td></tr>\n",
       "\t<tr><td>6-Jul</td><td>93   </td><td>84   </td><td>89   </td><td>91   </td><td>96   </td><td>87   </td><td>93   </td><td>84   </td><td>90   </td><td>...  </td><td>81   </td><td>87   </td><td>82   </td><td>87   </td><td>89   </td><td>90   </td><td> 98  </td><td>83   </td><td>87   </td><td>84   </td></tr>\n",
       "</tbody>\n",
       "</table>\n"
      ],
      "text/latex": [
       "\\begin{tabular}{r|lllllllllllllllllllll}\n",
       " DAY & X1996 & X1997 & X1998 & X1999 & X2000 & X2001 & X2002 & X2003 & X2004 & ... & X2006 & X2007 & X2008 & X2009 & X2010 & X2011 & X2012 & X2013 & X2014 & X2015\\\\\n",
       "\\hline\n",
       "\t 1-Jul & 98    & 86    & 91    & 84    & 89    & 84    & 90    & 73    & 82    & ...   & 93    & 95    & 85    & 95    & 87    & 92    & 105   & 82    & 90    & 85   \\\\\n",
       "\t 2-Jul & 97    & 90    & 88    & 82    & 91    & 87    & 90    & 81    & 81    & ...   & 93    & 85    & 87    & 90    & 84    & 94    &  93   & 85    & 93    & 87   \\\\\n",
       "\t 3-Jul & 97    & 93    & 91    & 87    & 93    & 87    & 87    & 87    & 86    & ...   & 93    & 82    & 91    & 89    & 83    & 95    &  99   & 76    & 87    & 79   \\\\\n",
       "\t 4-Jul & 90    & 91    & 91    & 88    & 95    & 84    & 89    & 86    & 88    & ...   & 91    & 86    & 90    & 91    & 85    & 92    &  98   & 77    & 84    & 85   \\\\\n",
       "\t 5-Jul & 89    & 84    & 91    & 90    & 96    & 86    & 93    & 80    & 90    & ...   & 90    & 88    & 88    & 80    & 88    & 90    & 100   & 83    & 86    & 84   \\\\\n",
       "\t 6-Jul & 93    & 84    & 89    & 91    & 96    & 87    & 93    & 84    & 90    & ...   & 81    & 87    & 82    & 87    & 89    & 90    &  98   & 83    & 87    & 84   \\\\\n",
       "\\end{tabular}\n"
      ],
      "text/markdown": [
       "\n",
       "| DAY | X1996 | X1997 | X1998 | X1999 | X2000 | X2001 | X2002 | X2003 | X2004 | ... | X2006 | X2007 | X2008 | X2009 | X2010 | X2011 | X2012 | X2013 | X2014 | X2015 |\n",
       "|---|---|---|---|---|---|---|---|---|---|---|---|---|---|---|---|---|---|---|---|---|\n",
       "| 1-Jul | 98    | 86    | 91    | 84    | 89    | 84    | 90    | 73    | 82    | ...   | 93    | 95    | 85    | 95    | 87    | 92    | 105   | 82    | 90    | 85    |\n",
       "| 2-Jul | 97    | 90    | 88    | 82    | 91    | 87    | 90    | 81    | 81    | ...   | 93    | 85    | 87    | 90    | 84    | 94    |  93   | 85    | 93    | 87    |\n",
       "| 3-Jul | 97    | 93    | 91    | 87    | 93    | 87    | 87    | 87    | 86    | ...   | 93    | 82    | 91    | 89    | 83    | 95    |  99   | 76    | 87    | 79    |\n",
       "| 4-Jul | 90    | 91    | 91    | 88    | 95    | 84    | 89    | 86    | 88    | ...   | 91    | 86    | 90    | 91    | 85    | 92    |  98   | 77    | 84    | 85    |\n",
       "| 5-Jul | 89    | 84    | 91    | 90    | 96    | 86    | 93    | 80    | 90    | ...   | 90    | 88    | 88    | 80    | 88    | 90    | 100   | 83    | 86    | 84    |\n",
       "| 6-Jul | 93    | 84    | 89    | 91    | 96    | 87    | 93    | 84    | 90    | ...   | 81    | 87    | 82    | 87    | 89    | 90    |  98   | 83    | 87    | 84    |\n",
       "\n"
      ],
      "text/plain": [
       "  DAY   X1996 X1997 X1998 X1999 X2000 X2001 X2002 X2003 X2004 ... X2006 X2007\n",
       "1 1-Jul 98    86    91    84    89    84    90    73    82    ... 93    95   \n",
       "2 2-Jul 97    90    88    82    91    87    90    81    81    ... 93    85   \n",
       "3 3-Jul 97    93    91    87    93    87    87    87    86    ... 93    82   \n",
       "4 4-Jul 90    91    91    88    95    84    89    86    88    ... 91    86   \n",
       "5 5-Jul 89    84    91    90    96    86    93    80    90    ... 90    88   \n",
       "6 6-Jul 93    84    89    91    96    87    93    84    90    ... 81    87   \n",
       "  X2008 X2009 X2010 X2011 X2012 X2013 X2014 X2015\n",
       "1 85    95    87    92    105   82    90    85   \n",
       "2 87    90    84    94     93   85    93    87   \n",
       "3 91    89    83    95     99   76    87    79   \n",
       "4 90    91    85    92     98   77    84    85   \n",
       "5 88    80    88    90    100   83    86    84   \n",
       "6 82    87    89    90     98   83    87    84   "
      ]
     },
     "metadata": {},
     "output_type": "display_data"
    }
   ],
   "source": [
    "#make sure dataset runs\n",
    "head(temps)"
   ]
  },
  {
   "cell_type": "code",
   "execution_count": 3,
   "id": "817a7128",
   "metadata": {},
   "outputs": [],
   "source": [
    "#remove first column since first column is all strings and make dataset into vector\n",
    "temps_2 = as.vector(unlist(temps[,-1]))"
   ]
  },
  {
   "cell_type": "code",
   "execution_count": 4,
   "id": "acb30486",
   "metadata": {},
   "outputs": [
    {
     "data": {
      "text/html": [
       "<ol class=list-inline>\n",
       "\t<li>98</li>\n",
       "\t<li>97</li>\n",
       "\t<li>97</li>\n",
       "\t<li>90</li>\n",
       "\t<li>89</li>\n",
       "\t<li>93</li>\n",
       "</ol>\n"
      ],
      "text/latex": [
       "\\begin{enumerate*}\n",
       "\\item 98\n",
       "\\item 97\n",
       "\\item 97\n",
       "\\item 90\n",
       "\\item 89\n",
       "\\item 93\n",
       "\\end{enumerate*}\n"
      ],
      "text/markdown": [
       "1. 98\n",
       "2. 97\n",
       "3. 97\n",
       "4. 90\n",
       "5. 89\n",
       "6. 93\n",
       "\n",
       "\n"
      ],
      "text/plain": [
       "[1] 98 97 97 90 89 93"
      ]
     },
     "metadata": {},
     "output_type": "display_data"
    }
   ],
   "source": [
    "#make sure first column has been removed\n",
    "head(temps_2)"
   ]
  },
  {
   "cell_type": "code",
   "execution_count": 5,
   "id": "49322054",
   "metadata": {},
   "outputs": [
    {
     "name": "stdout",
     "output_type": "stream",
     "text": [
      "\n",
      "  There is a binary version available but the source version is later:\n",
      "    binary source needs_compilation\n",
      "TTR 0.24.2 0.24.3              TRUE\n",
      "\n",
      "  Binaries will be installed\n",
      "package 'TTR' successfully unpacked and MD5 sums checked\n",
      "\n",
      "The downloaded binary packages are in\n",
      "\tC:\\Users\\sgede\\AppData\\Local\\Temp\\RtmpigaqzN\\downloaded_packages\n"
     ]
    },
    {
     "name": "stderr",
     "output_type": "stream",
     "text": [
      "Warning message:\n",
      "\"package 'TTR' was built under R version 3.6.3\""
     ]
    },
    {
     "name": "stdout",
     "output_type": "stream",
     "text": [
      "\n",
      "  There is a binary version available but the source version is later:\n",
      "         binary source needs_compilation\n",
      "forecast   8.14   8.15              TRUE\n",
      "\n",
      "  Binaries will be installed\n",
      "package 'forecast' successfully unpacked and MD5 sums checked\n",
      "\n",
      "The downloaded binary packages are in\n",
      "\tC:\\Users\\sgede\\AppData\\Local\\Temp\\RtmpigaqzN\\downloaded_packages\n"
     ]
    },
    {
     "name": "stderr",
     "output_type": "stream",
     "text": [
      "Warning message:\n",
      "\"package 'forecast' was built under R version 3.6.3\"Registered S3 method overwritten by 'quantmod':\n",
      "  method            from\n",
      "  as.zoo.data.frame zoo \n"
     ]
    },
    {
     "name": "stdout",
     "output_type": "stream",
     "text": [
      "\n",
      "  There is a binary version available but the source version is later:\n",
      "      binary source needs_compilation\n",
      "caret 6.0-86 6.0-90              TRUE\n",
      "\n",
      "  Binaries will be installed\n",
      "package 'caret' successfully unpacked and MD5 sums checked\n",
      "\n",
      "The downloaded binary packages are in\n",
      "\tC:\\Users\\sgede\\AppData\\Local\\Temp\\RtmpigaqzN\\downloaded_packages\n"
     ]
    },
    {
     "name": "stderr",
     "output_type": "stream",
     "text": [
      "Warning message:\n",
      "\"package 'caret' was built under R version 3.6.3\"Loading required package: lattice\n",
      "Warning message:\n",
      "\"package 'lattice' was built under R version 3.6.3\"Loading required package: ggplot2\n"
     ]
    }
   ],
   "source": [
    "#install packages\n",
    "install.packages(\"TTR\")\n",
    "library(TTR)\n",
    "install.packages(\"forecast\")\n",
    "library(forecast)\n",
    "install.packages(\"caret\")\n",
    "library(caret)"
   ]
  },
  {
   "cell_type": "code",
   "execution_count": 6,
   "id": "a3b2e610",
   "metadata": {},
   "outputs": [],
   "source": [
    "set.seed(1)"
   ]
  },
  {
   "cell_type": "code",
   "execution_count": 7,
   "id": "2e0ead70",
   "metadata": {},
   "outputs": [
    {
     "name": "stderr",
     "output_type": "stream",
     "text": [
      "ERROR while rich displaying an object: Error in if (many_rows) {: argument is of length zero\n",
      "\n",
      "Traceback:\n",
      "1. FUN(X[[i]], ...)\n",
      "2. tryCatch(withCallingHandlers({\n",
      " .     if (!mime %in% names(repr::mime2repr)) \n",
      " .         stop(\"No repr_* for mimetype \", mime, \" in repr::mime2repr\")\n",
      " .     rpr <- repr::mime2repr[[mime]](obj)\n",
      " .     if (is.null(rpr)) \n",
      " .         return(NULL)\n",
      " .     prepare_content(is.raw(rpr), rpr)\n",
      " . }, error = error_handler), error = outer_handler)\n",
      "3. tryCatchList(expr, classes, parentenv, handlers)\n",
      "4. tryCatchOne(expr, names, parentenv, handlers[[1L]])\n",
      "5. doTryCatch(return(expr), name, parentenv, handler)\n",
      "6. withCallingHandlers({\n",
      " .     if (!mime %in% names(repr::mime2repr)) \n",
      " .         stop(\"No repr_* for mimetype \", mime, \" in repr::mime2repr\")\n",
      " .     rpr <- repr::mime2repr[[mime]](obj)\n",
      " .     if (is.null(rpr)) \n",
      " .         return(NULL)\n",
      " .     prepare_content(is.raw(rpr), rpr)\n",
      " . }, error = error_handler)\n",
      "7. repr::mime2repr[[mime]](obj)\n",
      "8. repr_text.ts(obj)\n",
      "9. repr_ts_generic(obj, repr_text.matrix, ...)\n",
      "10. repr_func(m, ..., rows = nrow(m), cols = ncol(m))\n",
      "11. ellip_limit_arr(obj, ...)\n",
      "12. arr_partition(a, rows, cols)\n"
     ]
    }
   ],
   "source": [
    "#make time series data\n",
    "temps_2.ts <- ts(temps_2, start = 1996, frequency = 123)\n",
    "head(temps_2.ts)"
   ]
  },
  {
   "cell_type": "code",
   "execution_count": 8,
   "id": "a0a4ec3d",
   "metadata": {},
   "outputs": [
    {
     "data": {
      "text/plain": [
       "   Min. 1st Qu.  Median    Mean 3rd Qu.    Max. \n",
       "  50.00   79.00   85.00   83.34   90.00  105.00 "
      ]
     },
     "metadata": {},
     "output_type": "display_data"
    }
   ],
   "source": [
    "#summary statistics\n",
    "summary(temps_2.ts)"
   ]
  },
  {
   "cell_type": "code",
   "execution_count": 9,
   "id": "82a9af10",
   "metadata": {},
   "outputs": [
    {
     "data": {
      "image/png": "[encoded data removed]",
      "text/plain": [
       "plot without title"
      ]
     },
     "metadata": {},
     "output_type": "display_data"
    }
   ],
   "source": [
    "#plot the temps time series\n",
    "autoplot(temps_2.ts)"
   ]
  },
  {
   "cell_type": "code",
   "execution_count": 10,
   "id": "3e3f6bb2",
   "metadata": {},
   "outputs": [],
   "source": [
    "# apply Holt Winters method with \"additive\" seasonality\n",
    "temps_2.ts_HW_add <- HoltWinters(temps_2.ts, alpha=NULL, beta=NULL, gamma=NULL, seasonal = \"additive\")"
   ]
  },
  {
   "cell_type": "code",
   "execution_count": 11,
   "id": "3b640cb6",
   "metadata": {},
   "outputs": [
    {
     "data": {
      "image/png": "[encoded data removed]",
      "text/plain": [
       "Plot with title \"Holt-Winters filtering\""
      ]
     },
     "metadata": {},
     "output_type": "display_data"
    }
   ],
   "source": [
    "#plot Holt Winters additive\n",
    "plot(temps_2.ts_HW_add)"
   ]
  },
  {
   "cell_type": "code",
   "execution_count": 12,
   "id": "4b55da99",
   "metadata": {},
   "outputs": [
    {
     "name": "stderr",
     "output_type": "stream",
     "text": [
      "ERROR while rich displaying an object: Error in repr_matrix_generic(obj, \"\\n%s%s\\n\", sprintf(\"|%%s\\n|%s|\\n\", : formal argument \"cols\" matched by multiple actual arguments\n",
      "\n",
      "Traceback:\n",
      "1. FUN(X[[i]], ...)\n",
      "2. tryCatch(withCallingHandlers({\n",
      " .     if (!mime %in% names(repr::mime2repr)) \n",
      " .         stop(\"No repr_* for mimetype \", mime, \" in repr::mime2repr\")\n",
      " .     rpr <- repr::mime2repr[[mime]](obj)\n",
      " .     if (is.null(rpr)) \n",
      " .         return(NULL)\n",
      " .     prepare_content(is.raw(rpr), rpr)\n",
      " . }, error = error_handler), error = outer_handler)\n",
      "3. tryCatchList(expr, classes, parentenv, handlers)\n",
      "4. tryCatchOne(expr, names, parentenv, handlers[[1L]])\n",
      "5. doTryCatch(return(expr), name, parentenv, handler)\n",
      "6. withCallingHandlers({\n",
      " .     if (!mime %in% names(repr::mime2repr)) \n",
      " .         stop(\"No repr_* for mimetype \", mime, \" in repr::mime2repr\")\n",
      " .     rpr <- repr::mime2repr[[mime]](obj)\n",
      " .     if (is.null(rpr)) \n",
      " .         return(NULL)\n",
      " .     prepare_content(is.raw(rpr), rpr)\n",
      " . }, error = error_handler)\n",
      "7. repr::mime2repr[[mime]](obj)\n",
      "8. repr_markdown.ts(obj)\n",
      "9. repr_ts_generic(obj, repr_markdown.matrix, ...)\n",
      "10. repr_func(m, ..., rows = nrow(m), cols = ncol(m))\n"
     ]
    },
    {
     "data": {
      "text/html": [
       "<table>\n",
       "<thead><tr><th></th><th scope=col>xhat</th><th scope=col>level</th><th scope=col>trend</th><th scope=col>season</th></tr></thead>\n",
       "<tbody>\n",
       "\t<tr><th scope=row>1997.000</th><td>87.17619    </td><td>82.87739    </td><td>-0.004362918</td><td> 4.303159   </td></tr>\n",
       "\t<tr><th scope=row>1997.008</th><td>90.32925    </td><td>82.09550    </td><td>-0.004362918</td><td> 8.238119   </td></tr>\n",
       "\t<tr><th scope=row>1997.016</th><td>92.96089    </td><td>81.87348    </td><td>-0.004362918</td><td>11.091777   </td></tr>\n",
       "\t<tr><th scope=row>1997.024</th><td>90.93360    </td><td>81.89497    </td><td>-0.004362918</td><td> 9.042997   </td></tr>\n",
       "\t<tr><th scope=row>1997.033</th><td>83.99752    </td><td>81.93450    </td><td>-0.004362918</td><td> 2.067387   </td></tr>\n",
       "\t<tr><th scope=row>1997.041</th><td>84.04358    </td><td>81.93177    </td><td>-0.004362918</td><td> 2.116168   </td></tr>\n",
       "</tbody>\n",
       "</table>\n"
      ],
      "text/latex": [
       "\\begin{tabular}{r|llll}\n",
       "  & xhat & level & trend & season\\\\\n",
       "\\hline\n",
       "\t1997.000 & 87.17619     & 82.87739     & -0.004362918 &  4.303159   \\\\\n",
       "\t1997.008 & 90.32925     & 82.09550     & -0.004362918 &  8.238119   \\\\\n",
       "\t1997.016 & 92.96089     & 81.87348     & -0.004362918 & 11.091777   \\\\\n",
       "\t1997.024 & 90.93360     & 81.89497     & -0.004362918 &  9.042997   \\\\\n",
       "\t1997.033 & 83.99752     & 81.93450     & -0.004362918 &  2.067387   \\\\\n",
       "\t1997.041 & 84.04358     & 81.93177     & -0.004362918 &  2.116168   \\\\\n",
       "\\end{tabular}\n"
      ],
      "text/plain": [
       "         xhat     level    trend        season   \n",
       "1997.000 87.17619 82.87739 -0.004362918  4.303159\n",
       "1997.008 90.32925 82.09550 -0.004362918  8.238119\n",
       "1997.016 92.96089 81.87348 -0.004362918 11.091777\n",
       "1997.024 90.93360 81.89497 -0.004362918  9.042997\n",
       "1997.033 83.99752 81.93450 -0.004362918  2.067387\n",
       "1997.041 84.04358 81.93177 -0.004362918  2.116168"
      ]
     },
     "metadata": {},
     "output_type": "display_data"
    }
   ],
   "source": [
    "head(temps_2.ts_HW_add$fitted)"
   ]
  },
  {
   "cell_type": "code",
   "execution_count": 13,
   "id": "4987d195",
   "metadata": {},
   "outputs": [
    {
     "data": {
      "image/png": "[encoded data removed]",
      "text/plain": [
       "plot without title"
      ]
     },
     "metadata": {},
     "output_type": "display_data"
    }
   ],
   "source": [
    "#plot fitted Holt-Winters additive model\n",
    "plot(temps_2.ts_HW_add$fitted)"
   ]
  },
  {
   "cell_type": "code",
   "execution_count": 14,
   "id": "e7204ef1",
   "metadata": {},
   "outputs": [],
   "source": [
    "# apply Holt Winters method with \"multiplicative\" seasonality\n",
    "temps_2.ts_HW_mult <- HoltWinters(temps_2.ts, alpha=NULL, beta=NULL, gamma=NULL, seasonal = \"multiplicative\")"
   ]
  },
  {
   "cell_type": "code",
   "execution_count": 15,
   "id": "678f37b3",
   "metadata": {},
   "outputs": [
    {
     "data": {
      "image/png": "[encoded data removed]",
      "text/plain": [
       "Plot with title \"Holt-Winters filtering\""
      ]
     },
     "metadata": {},
     "output_type": "display_data"
    }
   ],
   "source": [
    "#plot Holt Winters multiplicative\n",
    "plot(temps_2.ts_HW_mult)"
   ]
  },
  {
   "cell_type": "code",
   "execution_count": 16,
   "id": "a6c80b3f",
   "metadata": {},
   "outputs": [
    {
     "name": "stderr",
     "output_type": "stream",
     "text": [
      "ERROR while rich displaying an object: Error in repr_matrix_generic(obj, \"\\n%s%s\\n\", sprintf(\"|%%s\\n|%s|\\n\", : formal argument \"cols\" matched by multiple actual arguments\n",
      "\n",
      "Traceback:\n",
      "1. FUN(X[[i]], ...)\n",
      "2. tryCatch(withCallingHandlers({\n",
      " .     if (!mime %in% names(repr::mime2repr)) \n",
      " .         stop(\"No repr_* for mimetype \", mime, \" in repr::mime2repr\")\n",
      " .     rpr <- repr::mime2repr[[mime]](obj)\n",
      " .     if (is.null(rpr)) \n",
      " .         return(NULL)\n",
      " .     prepare_content(is.raw(rpr), rpr)\n",
      " . }, error = error_handler), error = outer_handler)\n",
      "3. tryCatchList(expr, classes, parentenv, handlers)\n",
      "4. tryCatchOne(expr, names, parentenv, handlers[[1L]])\n",
      "5. doTryCatch(return(expr), name, parentenv, handler)\n",
      "6. withCallingHandlers({\n",
      " .     if (!mime %in% names(repr::mime2repr)) \n",
      " .         stop(\"No repr_* for mimetype \", mime, \" in repr::mime2repr\")\n",
      " .     rpr <- repr::mime2repr[[mime]](obj)\n",
      " .     if (is.null(rpr)) \n",
      " .         return(NULL)\n",
      " .     prepare_content(is.raw(rpr), rpr)\n",
      " . }, error = error_handler)\n",
      "7. repr::mime2repr[[mime]](obj)\n",
      "8. repr_markdown.ts(obj)\n",
      "9. repr_ts_generic(obj, repr_markdown.matrix, ...)\n",
      "10. repr_func(m, ..., rows = nrow(m), cols = ncol(m))\n"
     ]
    },
    {
     "data": {
      "text/html": [
       "<table>\n",
       "<thead><tr><th></th><th scope=col>xhat</th><th scope=col>level</th><th scope=col>trend</th><th scope=col>season</th></tr></thead>\n",
       "<tbody>\n",
       "\t<tr><th scope=row>1997.000</th><td>87.23653    </td><td>82.87739    </td><td>-0.004362918</td><td>1.052653    </td></tr>\n",
       "\t<tr><th scope=row>1997.008</th><td>90.42182    </td><td>82.15059    </td><td>-0.004362918</td><td>1.100742    </td></tr>\n",
       "\t<tr><th scope=row>1997.016</th><td>92.99734    </td><td>81.91055    </td><td>-0.004362918</td><td>1.135413    </td></tr>\n",
       "\t<tr><th scope=row>1997.024</th><td>90.94030    </td><td>81.90763    </td><td>-0.004362918</td><td>1.110338    </td></tr>\n",
       "\t<tr><th scope=row>1997.033</th><td>83.99917    </td><td>81.93634    </td><td>-0.004362918</td><td>1.025231    </td></tr>\n",
       "\t<tr><th scope=row>1997.041</th><td>84.04496    </td><td>81.93247    </td><td>-0.004362918</td><td>1.025838    </td></tr>\n",
       "</tbody>\n",
       "</table>\n"
      ],
      "text/latex": [
       "\\begin{tabular}{r|llll}\n",
       "  & xhat & level & trend & season\\\\\n",
       "\\hline\n",
       "\t1997.000 & 87.23653     & 82.87739     & -0.004362918 & 1.052653    \\\\\n",
       "\t1997.008 & 90.42182     & 82.15059     & -0.004362918 & 1.100742    \\\\\n",
       "\t1997.016 & 92.99734     & 81.91055     & -0.004362918 & 1.135413    \\\\\n",
       "\t1997.024 & 90.94030     & 81.90763     & -0.004362918 & 1.110338    \\\\\n",
       "\t1997.033 & 83.99917     & 81.93634     & -0.004362918 & 1.025231    \\\\\n",
       "\t1997.041 & 84.04496     & 81.93247     & -0.004362918 & 1.025838    \\\\\n",
       "\\end{tabular}\n"
      ],
      "text/plain": [
       "         xhat     level    trend        season  \n",
       "1997.000 87.23653 82.87739 -0.004362918 1.052653\n",
       "1997.008 90.42182 82.15059 -0.004362918 1.100742\n",
       "1997.016 92.99734 81.91055 -0.004362918 1.135413\n",
       "1997.024 90.94030 81.90763 -0.004362918 1.110338\n",
       "1997.033 83.99917 81.93634 -0.004362918 1.025231\n",
       "1997.041 84.04496 81.93247 -0.004362918 1.025838"
      ]
     },
     "metadata": {},
     "output_type": "display_data"
    }
   ],
   "source": [
    "head(temps_2.ts_HW_mult$fitted)"
   ]
  },
  {
   "cell_type": "code",
   "execution_count": 17,
   "id": "cde8e0ad",
   "metadata": {},
   "outputs": [
    {
     "data": {
      "image/png": "[encoded data removed]",
      "text/plain": [
       "plot without title"
      ]
     },
     "metadata": {},
     "output_type": "display_data"
    }
   ],
   "source": [
    "#plot fitted Holt-Winters multiplicative model\n",
    "plot(temps_2.ts_HW_mult$fitted)"
   ]
  },
  {
   "cell_type": "code",
   "execution_count": 18,
   "id": "44c9f4b9",
   "metadata": {},
   "outputs": [
    {
     "data": {
      "text/html": [
       "'There is progress in smoothing.'"
      ],
      "text/latex": [
       "'There is progress in smoothing.'"
      ],
      "text/markdown": [
       "'There is progress in smoothing.'"
      ],
      "text/plain": [
       "[1] \"There is progress in smoothing.\""
      ]
     },
     "metadata": {},
     "output_type": "display_data"
    }
   ],
   "source": [
    "\"There is progress in smoothing.\""
   ]
  },
  {
   "cell_type": "code",
   "execution_count": 19,
   "id": "de0cee0a",
   "metadata": {},
   "outputs": [
    {
     "name": "stdout",
     "output_type": "stream",
     "text": [
      "Holt-Winters additive model Sum of Squared Errors: 66244.25\n",
      "Holt-Winters multiplicative model Sum of Squared Errors: 68904.57"
     ]
    }
   ],
   "source": [
    "# the additive model has lower sum of squares so I will use that model for further investigation\n",
    "cat(\"Holt-Winters additive model Sum of Squared Errors:\", temps_2.ts_HW_add$SSE)\n",
    "cat(\"\\nHolt-Winters multiplicative model Sum of Squared Errors:\", temps_2.ts_HW_mult$SSE)"
   ]
  },
  {
   "cell_type": "code",
   "execution_count": 20,
   "id": "7b190f48",
   "metadata": {},
   "outputs": [],
   "source": [
    "# run cumsum on fitted data"
   ]
  },
  {
   "cell_type": "code",
   "execution_count": 21,
   "id": "2913b0dd",
   "metadata": {},
   "outputs": [],
   "source": [
    "a_season <- matrix(temps_2.ts_HW_add$fitted[,4],ncol=123)"
   ]
  },
  {
   "cell_type": "code",
   "execution_count": 22,
   "id": "d29be947",
   "metadata": {},
   "outputs": [
    {
     "data": {
      "text/html": [
       "<table>\n",
       "<tbody>\n",
       "\t<tr><td> 4.303159  </td><td>7.896655   </td><td>-2.493588  </td><td> 8.132428  </td><td> 3.4251107 </td><td>-12.192775 </td><td>-12.6480600</td><td>2.284850   </td><td> 6.239628  </td><td> 6.6517207 </td><td>...        </td><td> 1.8817396 </td><td> 2.7973275 </td><td> -7.384007 </td><td> -6.731199 </td><td>4.594863   </td><td>4.229417   </td><td>2.351232   </td><td>1.784854   </td><td>-4.558808  </td><td>-14.105770 </td></tr>\n",
       "\t<tr><td> 8.238119  </td><td>6.766574   </td><td>-9.574889  </td><td> 8.343810  </td><td>-0.5748893 </td><td>-16.176515 </td><td> -8.5667592</td><td>6.318137   </td><td>-9.901430  </td><td> 6.6256258 </td><td>...        </td><td> 1.1980662 </td><td> 2.5782433 </td><td> -4.781048 </td><td>-10.324733 </td><td>2.398748   </td><td>7.180348   </td><td>6.424048   </td><td>1.580458   </td><td>-3.088859  </td><td>-16.322937 </td></tr>\n",
       "\t<tr><td>11.091777  </td><td>1.677143   </td><td>-2.656190  </td><td> 9.490151  </td><td>-0.5179787 </td><td>-18.135865 </td><td> -8.4935885</td><td>4.338100   </td><td>-1.984170  </td><td> 5.6101678 </td><td>...        </td><td>-0.2425926 </td><td> 0.3037505 </td><td> -6.456080 </td><td>-11.314989 </td><td>4.734543   </td><td>4.587807   </td><td>7.136208   </td><td>1.309686   </td><td>-2.716105  </td><td>-16.169481 </td></tr>\n",
       "\t<tr><td> 9.042997  </td><td>4.766574   </td><td> 3.238119  </td><td> 9.620233  </td><td>-4.4691982 </td><td>-22.103345 </td><td> -6.4935885</td><td>8.285123   </td><td> 1.990683  </td><td>-0.3353284 </td><td>...        </td><td> 2.9354693 </td><td>-2.8434214 </td><td> -7.796781 </td><td>-14.441652 </td><td>2.474585   </td><td>5.996550   </td><td>8.335971   </td><td>0.883261   </td><td>-2.276560  </td><td>-12.230328 </td></tr>\n",
       "\t<tr><td> 2.067387  </td><td>5.799094   </td><td> 5.156818  </td><td> 2.770639  </td><td>-3.4122877 </td><td> -4.046434 </td><td> -6.4854584</td><td>9.225205   </td><td> 6.040869  </td><td>-3.2044010 </td><td>...        </td><td> 0.9624345 </td><td>-1.7724418 </td><td>-13.752436 </td><td> -9.707349 </td><td>3.562329   </td><td>6.522292   </td><td>8.632628   </td><td>1.957987   </td><td>-4.599660  </td><td> -9.335535 </td></tr>\n",
       "\t<tr><td> 2.116168  </td><td>6.815355   </td><td> 5.099907  </td><td>-3.152125  </td><td>-3.3391169 </td><td>-12.013914 </td><td> -0.5342389</td><td>9.200351   </td><td> 6.997307  </td><td>-1.1412182 </td><td>...        </td><td> 5.2063254 </td><td> 0.2441455 </td><td>-15.460074 </td><td>-10.375104 </td><td>1.729221   </td><td>5.832260   </td><td>7.564373   </td><td>3.625247   </td><td>-5.251089  </td><td>-10.575347 </td></tr>\n",
       "</tbody>\n",
       "</table>\n"
      ],
      "text/latex": [
       "\\begin{tabular}{lllllllllllllllllllllllllllllllllllllllllllllllllllllllllllllllllllllllllllllllllllllllllllllllllllllllllllllllllllllllllll}\n",
       "\t  4.303159   & 7.896655    & -2.493588   &  8.132428   &  3.4251107  & -12.192775  & -12.6480600 & 2.284850    &  6.239628   &  6.6517207  & ...         &  1.8817396  &  2.7973275  &  -7.384007  &  -6.731199  & 4.594863    & 4.229417    & 2.351232    & 1.784854    & -4.558808   & -14.105770 \\\\\n",
       "\t  8.238119   & 6.766574    & -9.574889   &  8.343810   & -0.5748893  & -16.176515  &  -8.5667592 & 6.318137    & -9.901430   &  6.6256258  & ...         &  1.1980662  &  2.5782433  &  -4.781048  & -10.324733  & 2.398748    & 7.180348    & 6.424048    & 1.580458    & -3.088859   & -16.322937 \\\\\n",
       "\t 11.091777   & 1.677143    & -2.656190   &  9.490151   & -0.5179787  & -18.135865  &  -8.4935885 & 4.338100    & -1.984170   &  5.6101678  & ...         & -0.2425926  &  0.3037505  &  -6.456080  & -11.314989  & 4.734543    & 4.587807    & 7.136208    & 1.309686    & -2.716105   & -16.169481 \\\\\n",
       "\t  9.042997   & 4.766574    &  3.238119   &  9.620233   & -4.4691982  & -22.103345  &  -6.4935885 & 8.285123    &  1.990683   & -0.3353284  & ...         &  2.9354693  & -2.8434214  &  -7.796781  & -14.441652  & 2.474585    & 5.996550    & 8.335971    & 0.883261    & -2.276560   & -12.230328 \\\\\n",
       "\t  2.067387   & 5.799094    &  5.156818   &  2.770639   & -3.4122877  &  -4.046434  &  -6.4854584 & 9.225205    &  6.040869   & -3.2044010  & ...         &  0.9624345  & -1.7724418  & -13.752436  &  -9.707349  & 3.562329    & 6.522292    & 8.632628    & 1.957987    & -4.599660   &  -9.335535 \\\\\n",
       "\t  2.116168   & 6.815355    &  5.099907   & -3.152125   & -3.3391169  & -12.013914  &  -0.5342389 & 9.200351    &  6.997307   & -1.1412182  & ...         &  5.2063254  &  0.2441455  & -15.460074  & -10.375104  & 1.729221    & 5.832260    & 7.564373    & 3.625247    & -5.251089   & -10.575347 \\\\\n",
       "\\end{tabular}\n"
      ],
      "text/markdown": [
       "\n",
       "|  4.303159   | 7.896655    | -2.493588   |  8.132428   |  3.4251107  | -12.192775  | -12.6480600 | 2.284850    |  6.239628   |  6.6517207  | ...         |  1.8817396  |  2.7973275  |  -7.384007  |  -6.731199  | 4.594863    | 4.229417    | 2.351232    | 1.784854    | -4.558808   | -14.105770  |\n",
       "|  8.238119   | 6.766574    | -9.574889   |  8.343810   | -0.5748893  | -16.176515  |  -8.5667592 | 6.318137    | -9.901430   |  6.6256258  | ...         |  1.1980662  |  2.5782433  |  -4.781048  | -10.324733  | 2.398748    | 7.180348    | 6.424048    | 1.580458    | -3.088859   | -16.322937  |\n",
       "| 11.091777   | 1.677143    | -2.656190   |  9.490151   | -0.5179787  | -18.135865  |  -8.4935885 | 4.338100    | -1.984170   |  5.6101678  | ...         | -0.2425926  |  0.3037505  |  -6.456080  | -11.314989  | 4.734543    | 4.587807    | 7.136208    | 1.309686    | -2.716105   | -16.169481  |\n",
       "|  9.042997   | 4.766574    |  3.238119   |  9.620233   | -4.4691982  | -22.103345  |  -6.4935885 | 8.285123    |  1.990683   | -0.3353284  | ...         |  2.9354693  | -2.8434214  |  -7.796781  | -14.441652  | 2.474585    | 5.996550    | 8.335971    | 0.883261    | -2.276560   | -12.230328  |\n",
       "|  2.067387   | 5.799094    |  5.156818   |  2.770639   | -3.4122877  |  -4.046434  |  -6.4854584 | 9.225205    |  6.040869   | -3.2044010  | ...         |  0.9624345  | -1.7724418  | -13.752436  |  -9.707349  | 3.562329    | 6.522292    | 8.632628    | 1.957987    | -4.599660   |  -9.335535  |\n",
       "|  2.116168   | 6.815355    |  5.099907   | -3.152125   | -3.3391169  | -12.013914  |  -0.5342389 | 9.200351    |  6.997307   | -1.1412182  | ...         |  5.2063254  |  0.2441455  | -15.460074  | -10.375104  | 1.729221    | 5.832260    | 7.564373    | 3.625247    | -5.251089   | -10.575347  |\n",
       "\n"
      ],
      "text/plain": [
       "     [,1]      [,2]     [,3]      [,4]      [,5]       [,6]       [,7]       \n",
       "[1,]  4.303159 7.896655 -2.493588  8.132428  3.4251107 -12.192775 -12.6480600\n",
       "[2,]  8.238119 6.766574 -9.574889  8.343810 -0.5748893 -16.176515  -8.5667592\n",
       "[3,] 11.091777 1.677143 -2.656190  9.490151 -0.5179787 -18.135865  -8.4935885\n",
       "[4,]  9.042997 4.766574  3.238119  9.620233 -4.4691982 -22.103345  -6.4935885\n",
       "[5,]  2.067387 5.799094  5.156818  2.770639 -3.4122877  -4.046434  -6.4854584\n",
       "[6,]  2.116168 6.815355  5.099907 -3.152125 -3.3391169 -12.013914  -0.5342389\n",
       "     [,8]     [,9]      [,10]      [,11] [,12]      [,13]      [,14]     \n",
       "[1,] 2.284850  6.239628  6.6517207 ...    1.8817396  2.7973275  -7.384007\n",
       "[2,] 6.318137 -9.901430  6.6256258 ...    1.1980662  2.5782433  -4.781048\n",
       "[3,] 4.338100 -1.984170  5.6101678 ...   -0.2425926  0.3037505  -6.456080\n",
       "[4,] 8.285123  1.990683 -0.3353284 ...    2.9354693 -2.8434214  -7.796781\n",
       "[5,] 9.225205  6.040869 -3.2044010 ...    0.9624345 -1.7724418 -13.752436\n",
       "[6,] 9.200351  6.997307 -1.1412182 ...    5.2063254  0.2441455 -15.460074\n",
       "     [,15]      [,16]    [,17]    [,18]    [,19]    [,20]     [,21]     \n",
       "[1,]  -6.731199 4.594863 4.229417 2.351232 1.784854 -4.558808 -14.105770\n",
       "[2,] -10.324733 2.398748 7.180348 6.424048 1.580458 -3.088859 -16.322937\n",
       "[3,] -11.314989 4.734543 4.587807 7.136208 1.309686 -2.716105 -16.169481\n",
       "[4,] -14.441652 2.474585 5.996550 8.335971 0.883261 -2.276560 -12.230328\n",
       "[5,]  -9.707349 3.562329 6.522292 8.632628 1.957987 -4.599660  -9.335535\n",
       "[6,] -10.375104 1.729221 5.832260 7.564373 3.625247 -5.251089 -10.575347"
      ]
     },
     "metadata": {},
     "output_type": "display_data"
    }
   ],
   "source": [
    "head(a_season)"
   ]
  },
  {
   "cell_type": "code",
   "execution_count": 23,
   "id": "1f05393d",
   "metadata": {},
   "outputs": [
    {
     "data": {
      "text/html": [
       "<ol class=list-inline>\n",
       "\t<li>19</li>\n",
       "\t<li>123</li>\n",
       "</ol>\n"
      ],
      "text/latex": [
       "\\begin{enumerate*}\n",
       "\\item 19\n",
       "\\item 123\n",
       "\\end{enumerate*}\n"
      ],
      "text/markdown": [
       "1. 19\n",
       "2. 123\n",
       "\n",
       "\n"
      ],
      "text/plain": [
       "[1]  19 123"
      ]
     },
     "metadata": {},
     "output_type": "display_data"
    }
   ],
   "source": [
    "dim(a_season)"
   ]
  },
  {
   "cell_type": "code",
   "execution_count": 24,
   "id": "a04c1973",
   "metadata": {},
   "outputs": [],
   "source": [
    "#put row names and column names back into dataset to make easier to use\n",
    "colnames(a_season)<-as.vector(t(temps[,1]))\n",
    "rownames(a_season)<-c(1997:2015)"
   ]
  },
  {
   "cell_type": "code",
   "execution_count": 25,
   "id": "b139840c",
   "metadata": {},
   "outputs": [
    {
     "data": {
      "text/html": [
       "<table>\n",
       "<thead><tr><th></th><th scope=col>1-Jul</th><th scope=col>2-Jul</th><th scope=col>3-Jul</th><th scope=col>4-Jul</th><th scope=col>5-Jul</th><th scope=col>6-Jul</th><th scope=col>7-Jul</th><th scope=col>8-Jul</th><th scope=col>9-Jul</th><th scope=col>10-Jul</th><th scope=col>...</th><th scope=col>22-Oct</th><th scope=col>23-Oct</th><th scope=col>24-Oct</th><th scope=col>25-Oct</th><th scope=col>26-Oct</th><th scope=col>27-Oct</th><th scope=col>28-Oct</th><th scope=col>29-Oct</th><th scope=col>30-Oct</th><th scope=col>31-Oct</th></tr></thead>\n",
       "<tbody>\n",
       "\t<tr><th scope=row>1997</th><td> 4.303159  </td><td>7.896655   </td><td>-2.493588  </td><td> 8.132428  </td><td> 3.4251107 </td><td>-12.192775 </td><td>-12.6480600</td><td>2.284850   </td><td> 6.239628  </td><td> 6.6517207 </td><td>...        </td><td> 1.8817396 </td><td> 2.7973275 </td><td> -7.384007 </td><td> -6.731199 </td><td>4.594863   </td><td>4.229417   </td><td>2.351232   </td><td>1.784854   </td><td>-4.558808  </td><td>-14.105770 </td></tr>\n",
       "\t<tr><th scope=row>1998</th><td> 8.238119  </td><td>6.766574   </td><td>-9.574889  </td><td> 8.343810  </td><td>-0.5748893 </td><td>-16.176515 </td><td> -8.5667592</td><td>6.318137   </td><td>-9.901430  </td><td> 6.6256258 </td><td>...        </td><td> 1.1980662 </td><td> 2.5782433 </td><td> -4.781048 </td><td>-10.324733 </td><td>2.398748   </td><td>7.180348   </td><td>6.424048   </td><td>1.580458   </td><td>-3.088859  </td><td>-16.322937 </td></tr>\n",
       "\t<tr><th scope=row>1999</th><td>11.091777  </td><td>1.677143   </td><td>-2.656190  </td><td> 9.490151  </td><td>-0.5179787 </td><td>-18.135865 </td><td> -8.4935885</td><td>4.338100   </td><td>-1.984170  </td><td> 5.6101678 </td><td>...        </td><td>-0.2425926 </td><td> 0.3037505 </td><td> -6.456080 </td><td>-11.314989 </td><td>4.734543   </td><td>4.587807   </td><td>7.136208   </td><td>1.309686   </td><td>-2.716105  </td><td>-16.169481 </td></tr>\n",
       "\t<tr><th scope=row>2000</th><td> 9.042997  </td><td>4.766574   </td><td> 3.238119  </td><td> 9.620233  </td><td>-4.4691982 </td><td>-22.103345 </td><td> -6.4935885</td><td>8.285123   </td><td> 1.990683  </td><td>-0.3353284 </td><td>...        </td><td> 2.9354693 </td><td>-2.8434214 </td><td> -7.796781 </td><td>-14.441652 </td><td>2.474585   </td><td>5.996550   </td><td>8.335971   </td><td>0.883261   </td><td>-2.276560  </td><td>-12.230328 </td></tr>\n",
       "\t<tr><th scope=row>2001</th><td> 2.067387  </td><td>5.799094   </td><td> 5.156818  </td><td> 2.770639  </td><td>-3.4122877 </td><td> -4.046434 </td><td> -6.4854584</td><td>9.225205   </td><td> 6.040869  </td><td>-3.2044010 </td><td>...        </td><td> 0.9624345 </td><td>-1.7724418 </td><td>-13.752436 </td><td> -9.707349 </td><td>3.562329   </td><td>6.522292   </td><td>8.632628   </td><td>1.957987   </td><td>-4.599660  </td><td> -9.335535 </td></tr>\n",
       "\t<tr><th scope=row>2002</th><td> 2.116168  </td><td>6.815355   </td><td> 5.099907  </td><td>-3.152125  </td><td>-3.3391169 </td><td>-12.013914 </td><td> -0.5342389</td><td>9.200351   </td><td> 6.997307  </td><td>-1.1412182 </td><td>...        </td><td> 5.2063254 </td><td> 0.2441455 </td><td>-15.460074 </td><td>-10.375104 </td><td>1.729221   </td><td>5.832260   </td><td>7.564373   </td><td>3.625247   </td><td>-5.251089  </td><td>-10.575347 </td></tr>\n",
       "</tbody>\n",
       "</table>\n"
      ],
      "text/latex": [
       "\\begin{tabular}{r|lllllllllllllllllllllllllllllllllllllllllllllllllllllllllllllllllllllllllllllllllllllllllllllllllllllllllllllllllllllllllll}\n",
       "  & 1-Jul & 2-Jul & 3-Jul & 4-Jul & 5-Jul & 6-Jul & 7-Jul & 8-Jul & 9-Jul & 10-Jul & ... & 22-Oct & 23-Oct & 24-Oct & 25-Oct & 26-Oct & 27-Oct & 28-Oct & 29-Oct & 30-Oct & 31-Oct\\\\\n",
       "\\hline\n",
       "\t1997 &  4.303159   & 7.896655    & -2.493588   &  8.132428   &  3.4251107  & -12.192775  & -12.6480600 & 2.284850    &  6.239628   &  6.6517207  & ...         &  1.8817396  &  2.7973275  &  -7.384007  &  -6.731199  & 4.594863    & 4.229417    & 2.351232    & 1.784854    & -4.558808   & -14.105770 \\\\\n",
       "\t1998 &  8.238119   & 6.766574    & -9.574889   &  8.343810   & -0.5748893  & -16.176515  &  -8.5667592 & 6.318137    & -9.901430   &  6.6256258  & ...         &  1.1980662  &  2.5782433  &  -4.781048  & -10.324733  & 2.398748    & 7.180348    & 6.424048    & 1.580458    & -3.088859   & -16.322937 \\\\\n",
       "\t1999 & 11.091777   & 1.677143    & -2.656190   &  9.490151   & -0.5179787  & -18.135865  &  -8.4935885 & 4.338100    & -1.984170   &  5.6101678  & ...         & -0.2425926  &  0.3037505  &  -6.456080  & -11.314989  & 4.734543    & 4.587807    & 7.136208    & 1.309686    & -2.716105   & -16.169481 \\\\\n",
       "\t2000 &  9.042997   & 4.766574    &  3.238119   &  9.620233   & -4.4691982  & -22.103345  &  -6.4935885 & 8.285123    &  1.990683   & -0.3353284  & ...         &  2.9354693  & -2.8434214  &  -7.796781  & -14.441652  & 2.474585    & 5.996550    & 8.335971    & 0.883261    & -2.276560   & -12.230328 \\\\\n",
       "\t2001 &  2.067387   & 5.799094    &  5.156818   &  2.770639   & -3.4122877  &  -4.046434  &  -6.4854584 & 9.225205    &  6.040869   & -3.2044010  & ...         &  0.9624345  & -1.7724418  & -13.752436  &  -9.707349  & 3.562329    & 6.522292    & 8.632628    & 1.957987    & -4.599660   &  -9.335535 \\\\\n",
       "\t2002 &  2.116168   & 6.815355    &  5.099907   & -3.152125   & -3.3391169  & -12.013914  &  -0.5342389 & 9.200351    &  6.997307   & -1.1412182  & ...         &  5.2063254  &  0.2441455  & -15.460074  & -10.375104  & 1.729221    & 5.832260    & 7.564373    & 3.625247    & -5.251089   & -10.575347 \\\\\n",
       "\\end{tabular}\n"
      ],
      "text/markdown": [
       "\n",
       "| <!--/--> | 1-Jul | 2-Jul | 3-Jul | 4-Jul | 5-Jul | 6-Jul | 7-Jul | 8-Jul | 9-Jul | 10-Jul | ... | 22-Oct | 23-Oct | 24-Oct | 25-Oct | 26-Oct | 27-Oct | 28-Oct | 29-Oct | 30-Oct | 31-Oct |\n",
       "|---|---|---|---|---|---|---|---|---|---|---|---|---|---|---|---|---|---|---|---|---|---|\n",
       "| 1997 |  4.303159   | 7.896655    | -2.493588   |  8.132428   |  3.4251107  | -12.192775  | -12.6480600 | 2.284850    |  6.239628   |  6.6517207  | ...         |  1.8817396  |  2.7973275  |  -7.384007  |  -6.731199  | 4.594863    | 4.229417    | 2.351232    | 1.784854    | -4.558808   | -14.105770  |\n",
       "| 1998 |  8.238119   | 6.766574    | -9.574889   |  8.343810   | -0.5748893  | -16.176515  |  -8.5667592 | 6.318137    | -9.901430   |  6.6256258  | ...         |  1.1980662  |  2.5782433  |  -4.781048  | -10.324733  | 2.398748    | 7.180348    | 6.424048    | 1.580458    | -3.088859   | -16.322937  |\n",
       "| 1999 | 11.091777   | 1.677143    | -2.656190   |  9.490151   | -0.5179787  | -18.135865  |  -8.4935885 | 4.338100    | -1.984170   |  5.6101678  | ...         | -0.2425926  |  0.3037505  |  -6.456080  | -11.314989  | 4.734543    | 4.587807    | 7.136208    | 1.309686    | -2.716105   | -16.169481  |\n",
       "| 2000 |  9.042997   | 4.766574    |  3.238119   |  9.620233   | -4.4691982  | -22.103345  |  -6.4935885 | 8.285123    |  1.990683   | -0.3353284  | ...         |  2.9354693  | -2.8434214  |  -7.796781  | -14.441652  | 2.474585    | 5.996550    | 8.335971    | 0.883261    | -2.276560   | -12.230328  |\n",
       "| 2001 |  2.067387   | 5.799094    |  5.156818   |  2.770639   | -3.4122877  |  -4.046434  |  -6.4854584 | 9.225205    |  6.040869   | -3.2044010  | ...         |  0.9624345  | -1.7724418  | -13.752436  |  -9.707349  | 3.562329    | 6.522292    | 8.632628    | 1.957987    | -4.599660   |  -9.335535  |\n",
       "| 2002 |  2.116168   | 6.815355    |  5.099907   | -3.152125   | -3.3391169  | -12.013914  |  -0.5342389 | 9.200351    |  6.997307   | -1.1412182  | ...         |  5.2063254  |  0.2441455  | -15.460074  | -10.375104  | 1.729221    | 5.832260    | 7.564373    | 3.625247    | -5.251089   | -10.575347  |\n",
       "\n"
      ],
      "text/plain": [
       "     1-Jul     2-Jul    3-Jul     4-Jul     5-Jul      6-Jul      7-Jul      \n",
       "1997  4.303159 7.896655 -2.493588  8.132428  3.4251107 -12.192775 -12.6480600\n",
       "1998  8.238119 6.766574 -9.574889  8.343810 -0.5748893 -16.176515  -8.5667592\n",
       "1999 11.091777 1.677143 -2.656190  9.490151 -0.5179787 -18.135865  -8.4935885\n",
       "2000  9.042997 4.766574  3.238119  9.620233 -4.4691982 -22.103345  -6.4935885\n",
       "2001  2.067387 5.799094  5.156818  2.770639 -3.4122877  -4.046434  -6.4854584\n",
       "2002  2.116168 6.815355  5.099907 -3.152125 -3.3391169 -12.013914  -0.5342389\n",
       "     8-Jul    9-Jul     10-Jul     ... 22-Oct     23-Oct     24-Oct    \n",
       "1997 2.284850  6.239628  6.6517207 ...  1.8817396  2.7973275  -7.384007\n",
       "1998 6.318137 -9.901430  6.6256258 ...  1.1980662  2.5782433  -4.781048\n",
       "1999 4.338100 -1.984170  5.6101678 ... -0.2425926  0.3037505  -6.456080\n",
       "2000 8.285123  1.990683 -0.3353284 ...  2.9354693 -2.8434214  -7.796781\n",
       "2001 9.225205  6.040869 -3.2044010 ...  0.9624345 -1.7724418 -13.752436\n",
       "2002 9.200351  6.997307 -1.1412182 ...  5.2063254  0.2441455 -15.460074\n",
       "     25-Oct     26-Oct   27-Oct   28-Oct   29-Oct   30-Oct    31-Oct    \n",
       "1997  -6.731199 4.594863 4.229417 2.351232 1.784854 -4.558808 -14.105770\n",
       "1998 -10.324733 2.398748 7.180348 6.424048 1.580458 -3.088859 -16.322937\n",
       "1999 -11.314989 4.734543 4.587807 7.136208 1.309686 -2.716105 -16.169481\n",
       "2000 -14.441652 2.474585 5.996550 8.335971 0.883261 -2.276560 -12.230328\n",
       "2001  -9.707349 3.562329 6.522292 8.632628 1.957987 -4.599660  -9.335535\n",
       "2002 -10.375104 1.729221 5.832260 7.564373 3.625247 -5.251089 -10.575347"
      ]
     },
     "metadata": {},
     "output_type": "display_data"
    }
   ],
   "source": [
    "#check to make sure row names and column names added\n",
    "head(a_season)"
   ]
  },
  {
   "cell_type": "code",
   "execution_count": 26,
   "id": "55273c12",
   "metadata": {},
   "outputs": [],
   "source": [
    "#transpose xhat \n",
    "a_season <- t(a_season)"
   ]
  },
  {
   "cell_type": "code",
   "execution_count": 27,
   "id": "39edeafe",
   "metadata": {},
   "outputs": [],
   "source": [
    "#make a dataframe to store cumsum values\n",
    "cumsum_dataframe <- data.frame(matrix(nrow=nrow(a_season),ncol=ncol(a_season)))\n",
    "#assign column names to dataframe\n",
    "colnames(cumsum_dataframe)<-colnames(a_season)\n",
    "rownames(cumsum_dataframe)<-rownames(a_season)"
   ]
  },
  {
   "cell_type": "code",
   "execution_count": 28,
   "id": "c1bf3a94",
   "metadata": {},
   "outputs": [
    {
     "name": "stdout",
     "output_type": "stream",
     "text": [
      "Year 1998 :no change detection.\n",
      "Year 1999 :no change detection.\n",
      "Year 2000 :no change detection.\n",
      "Year 2001 :no change detection.\n",
      "Year 2002 :no change detection.\n",
      "Year 2003 :no change detection.\n",
      "Year 2004 :no change detection.\n",
      "Year 2005 :no change detection.\n",
      "Year 2006 :no change detection.\n",
      "Year 2007 :no change detection.\n",
      "Year 2008 :no change detection.\n",
      "Year 2009 :no change detection.\n",
      "Year 2010 :no change detection.\n",
      "Year 2011 :no change detection.\n",
      "Year 2012 :no change detection.\n",
      "Year 2013 :no change detection.\n",
      "Year 2014 :no change detection.\n",
      "Year 2015 :no change detection.\n"
     ]
    }
   ],
   "source": [
    "#calculate cumsum values for each year\n",
    "for(y in 2:ncol(cumsum_dataframe)){\n",
    "    cumsum_dataframe[1,y]<-0 #set intial St to zero for each column\n",
    "    july_mu <- mean(a_season[1:31,y-1]) #the expected value for month of july if no change\n",
    "    july_sd <- sd(a_season[1:31,y-1]) #the standard deviation for month of july\n",
    "    threshold <- 5*july_sd #typical value of threshold is 5 times standard deviation \n",
    "    change <- NULL #for storing dates with St over threshold\n",
    "    for(i in 2:nrow(cumsum_dataframe)){\n",
    "        cumsum_dataframe[i,y] <- max(0,cumsum_dataframe[i-1,y]+(july_mu-a_season[i,y]-july_sd))\n",
    "        if (cumsum_dataframe[i,y]>=threshold){\n",
    "            change <- append(change,cumsum_dataframe[i,y])}}\n",
    "    if (length(change)==0){\n",
    "        cat(\"Year\",colnames(cumsum_dataframe[y]),\":no change detection.\\n\")\n",
    "    }else{\n",
    "        cat(\"In year \",colnames(cumsum_dataframe[y]),\"The date summer begins:\",\n",
    "        cumsum_dataframe[which(cumsum_dataframe[,y]==change[1]),\"Day\"],\"\\n\")}\n",
    "    \n",
    "}"
   ]
  },
  {
   "cell_type": "code",
   "execution_count": 29,
   "id": "01d6463d",
   "metadata": {},
   "outputs": [
    {
     "data": {
      "text/html": [
       "'Results show no change detection indicating the unofficial end of summer has gotten later over the years'"
      ],
      "text/latex": [
       "'Results show no change detection indicating the unofficial end of summer has gotten later over the years'"
      ],
      "text/markdown": [
       "'Results show no change detection indicating the unofficial end of summer has gotten later over the years'"
      ],
      "text/plain": [
       "[1] \"Results show no change detection indicating the unofficial end of summer has gotten later over the years\""
      ]
     },
     "metadata": {},
     "output_type": "display_data"
    }
   ],
   "source": [
    "\"Results show no change detection indicating the unofficial end of summer has gotten later over the years\""
   ]
  }
 ],
 "metadata": {
  "kernelspec": {
   "display_name": "R",
   "language": "R",
   "name": "ir"
  },
  "language_info": {
   "codemirror_mode": "r",
   "file_extension": ".r",
   "mimetype": "text/x-r-source",
   "name": "R",
   "pygments_lexer": "r",
   "version": "3.6.1"
  }
 },
 "nbformat": 4,
 "nbformat_minor": 5
}
